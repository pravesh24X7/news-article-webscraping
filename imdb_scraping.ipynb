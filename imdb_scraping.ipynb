{
 "cells": [
  {
   "cell_type": "code",
   "execution_count": 1,
   "metadata": {},
   "outputs": [],
   "source": [
    "\n",
    "from bs4 import BeautifulSoup\n",
    "import requests, json\n"
   ]
  },
  {
   "cell_type": "code",
   "execution_count": 2,
   "metadata": {},
   "outputs": [
    {
     "data": {
      "text/plain": [
       "200"
      ]
     },
     "execution_count": 2,
     "metadata": {},
     "output_type": "execute_result"
    }
   ],
   "source": [
    "\n",
    "r0 = requests.get(\"https://www.imdb.com/feature/genre/\")\n",
    "r0.status_code\n"
   ]
  },
  {
   "cell_type": "code",
   "execution_count": 3,
   "metadata": {},
   "outputs": [],
   "source": [
    "soup = BeautifulSoup(r0.content, \"html.parser\")\n"
   ]
  },
  {
   "cell_type": "code",
   "execution_count": 4,
   "metadata": {},
   "outputs": [],
   "source": [
    "\n",
    "selector =\"image\"\n",
    "res0 = soup.find_all(\"div\", {\"class\": selector})\n"
   ]
  },
  {
   "cell_type": "code",
   "execution_count": 5,
   "metadata": {},
   "outputs": [],
   "source": [
    "hyperlinks, titles = [], []\n",
    "\n",
    "for item in res0:\n",
    "    hyperlinks.append(item.a['href'])\n",
    "    titles.append(item.a.img['title'])"
   ]
  },
  {
   "cell_type": "code",
   "execution_count": 6,
   "metadata": {},
   "outputs": [
    {
     "data": {
      "text/plain": [
       "int"
      ]
     },
     "execution_count": 6,
     "metadata": {},
     "output_type": "execute_result"
    }
   ],
   "source": [
    "\n",
    "r1 = requests.get(hyperlinks[0])\n",
    "type(r1.status_code)\n"
   ]
  },
  {
   "cell_type": "code",
   "execution_count": 7,
   "metadata": {},
   "outputs": [],
   "source": [
    "\n",
    "def scraper( bu):\n",
    "    \n",
    "    tr = requests.get(bu)\n",
    "    if tr.status_code != 200:\n",
    "        return []\n",
    "    \n",
    "    ts = BeautifulSoup(tr.content, \"html.parser\")\n",
    "        \n",
    "    selector = \"lister-item-content\"\n",
    "    tres = ts.find_all(\"div\", {\"class\": selector})    \n",
    "    \n",
    "    ms_, yr_, rt_ = [], [], []\n",
    "        \n",
    "    for item in tres:\n",
    "        ms_.append(item.a.string)\n",
    "    \n",
    "    tres2 = ts.find_all(\"div\", class_=\"ratings-bar\")\n",
    "    for item in tres2:\n",
    "        rt_.append(item.strong.string)\n",
    "    \n",
    "            \n",
    "    selector = \"lister-item-year text-muted unbold\"\n",
    "    tres3 = ts.find_all(\"span\", class_=selector)\n",
    "\n",
    "    for item in tres3:\n",
    "        yr_.append(item.string)\n",
    "\n",
    "    return (ms_, yr_, rt_ )   \n"
   ]
  },
  {
   "cell_type": "code",
   "execution_count": 8,
   "metadata": {},
   "outputs": [],
   "source": [
    "\n",
    "result = {}\n",
    "\n",
    "for item in range(len(titles)):\n",
    "    \n",
    "    ms_, yr_, rt_ = scraper(hyperlinks[item])\n",
    "    \n",
    "    result[titles[item]] = {\n",
    "        \"movie_series\": ms_,\n",
    "        \"year_release\": yr_,\n",
    "        \"rating\": rt_,\n",
    "        \"base_url\": hyperlinks[item]\n",
    "    }\n"
   ]
  },
  {
   "cell_type": "code",
   "execution_count": null,
   "metadata": {},
   "outputs": [],
   "source": []
  },
  {
   "cell_type": "code",
   "execution_count": 9,
   "metadata": {},
   "outputs": [],
   "source": [
    "\n",
    "import numpy as np\n",
    "import pandas as pd\n"
   ]
  },
  {
   "cell_type": "code",
   "execution_count": 10,
   "metadata": {},
   "outputs": [],
   "source": [
    "df1 = pd.DataFrame(result)"
   ]
  },
  {
   "cell_type": "code",
   "execution_count": 11,
   "metadata": {},
   "outputs": [],
   "source": [
    "# type(df1[\"Sci-Fi\"])"
   ]
  },
  {
   "cell_type": "code",
   "execution_count": 12,
   "metadata": {},
   "outputs": [],
   "source": [
    "final_df = []\n",
    "\n",
    "\n",
    "for item in titles:\n",
    "        \n",
    "    tseries = pd.Series(df1[item][\"movie_series\"], name=\"movie_series\")\n",
    "    tyear = pd.Series(df1[item]['year_release'], name=\"year_release\")\n",
    "    trating = pd.Series(df1[item][\"rating\"], name=\"rating\")\n",
    "    \n",
    "    tmp_df = pd.concat([tseries, tyear, trating], axis=1)\n",
    "    final_df.append(tmp_df)\n",
    "    \n"
   ]
  },
  {
   "cell_type": "code",
   "execution_count": 13,
   "metadata": {},
   "outputs": [],
   "source": [
    "def file_creator():\n",
    "    \n",
    "    for idx in range(len(final_df)):\n",
    "        filename = f\"{titles[idx]}.csv\"\n",
    "        \n",
    "        tdf = final_df[idx]\n",
    "        tdf.to_csv(\n",
    "            filename\n",
    "        )\n",
    "        \n",
    "\n",
    "file_creator()     \n"
   ]
  },
  {
   "cell_type": "code",
   "execution_count": 51,
   "metadata": {},
   "outputs": [],
   "source": [
    "\n",
    "import mysql.connector as mysql\n",
    "from mysql.connector import Error\n",
    "\n",
    "try:\n",
    "    con = mysql.connect(\n",
    "        host=\"127.0.0.1\",\n",
    "        user=\"prince\",\n",
    "        password=\"devil@db007\"\n",
    "    )\n",
    "    \n",
    "    if con.is_connected():\n",
    "        cursor = con.cursor()\n",
    "        res = cursor.execute(\"CREATE DATABASE IF NOT EXISTS movies\")\n",
    "        \n",
    "except Error as error:\n",
    "    print(\"Error while connecting to MYSQL\")\n"
   ]
  },
  {
   "cell_type": "code",
   "execution_count": 58,
   "metadata": {},
   "outputs": [],
   "source": [
    "\n",
    "def insert_data(\n",
    "    data_frame, db_name, table_name\n",
    "):\n",
    "    \n",
    "    if '-' in table_name:\n",
    "        new_tbname = table_name.split(\"-\")\n",
    "        table_name = \"_\".join(new_tbname)\n",
    "    \n",
    "    try:\n",
    "        if con.is_connected():\n",
    "            \n",
    "            cursor = con.cursor()\n",
    "            cursor.execute(f\"use {db_name}\")\n",
    "            \n",
    "            record = cursor.fetchone()\n",
    "            print(\"Connection Established With {}\".format(record))\n",
    "            \n",
    "            cursor.execute(\"DROP TABLE IF EXISTS {}\".format(table_name))\n",
    "            print(\"Creating Table {}...\".format(table_name))\n",
    "            \n",
    "            cursor.execute(\n",
    "                \"CREATE TABLE IF NOT EXISTS {a} ( {a}_id INT AUTO_INCREMENT, movie_series VARCHAR(255) NOT NULL, rating FLOAT(2,1), year_release VARCHAR(255), PRIMARY KEY({a}_id) )\".format(a=table_name)\n",
    "            )\n",
    "            \n",
    "            print(\"Table Created {}...\".format(table_name))\n",
    "            \n",
    "            data_frame[\"rating\"] = data_frame[\"rating\"].astype(np.float16)\n",
    "            \n",
    "            if data_frame[\"rating\"].hasnans:\n",
    "                data_frame = data_frame.fillna(np.mean(\n",
    "                    data_frame[\"rating\"]\n",
    "                ))\n",
    "            \n",
    "            queries= []\n",
    "            for i in range(len(data_frame)):\n",
    "        \n",
    "                val1, val2, val3 = data_frame.iloc[i][\"movie_series\"], data_frame.iloc[i][\"rating\"], data_frame.iloc[i][\"year_release\"]\n",
    "                sql = \"\"\"\n",
    "                    INSERT INTO {a}.{b} (movie_series, rating, year_release)\n",
    "                    VALUES\n",
    "                    (\"{v1}\", {v2}, \"{v3}\")\n",
    "                \"\"\".format(a=db_name, b=table_name, v1=val1, v2=val2, v3=val3)\n",
    "            \n",
    "                queries.append(sql)\n",
    "\n",
    "            for query in queries:\n",
    "                cursor.execute(query)\n",
    "                con.commit()\n",
    "    except Error as error:\n",
    "        print(\"Error :\" + str(error))\n"
   ]
  },
  {
   "cell_type": "code",
   "execution_count": 53,
   "metadata": {},
   "outputs": [
    {
     "data": {
      "text/html": [
       "<div>\n",
       "<style scoped>\n",
       "    .dataframe tbody tr th:only-of-type {\n",
       "        vertical-align: middle;\n",
       "    }\n",
       "\n",
       "    .dataframe tbody tr th {\n",
       "        vertical-align: top;\n",
       "    }\n",
       "\n",
       "    .dataframe thead th {\n",
       "        text-align: right;\n",
       "    }\n",
       "</style>\n",
       "<table border=\"1\" class=\"dataframe\">\n",
       "  <thead>\n",
       "    <tr style=\"text-align: right;\">\n",
       "      <th></th>\n",
       "      <th>movie_series</th>\n",
       "      <th>year_release</th>\n",
       "      <th>rating</th>\n",
       "    </tr>\n",
       "  </thead>\n",
       "  <tbody>\n",
       "    <tr>\n",
       "      <th>41</th>\n",
       "      <td>Mighty Morphin Power Rangers</td>\n",
       "      <td>(1993–1996)</td>\n",
       "      <td>6.4</td>\n",
       "    </tr>\n",
       "    <tr>\n",
       "      <th>48</th>\n",
       "      <td>The Big Door Prize</td>\n",
       "      <td>(2023– )</td>\n",
       "      <td>NaN</td>\n",
       "    </tr>\n",
       "    <tr>\n",
       "      <th>31</th>\n",
       "      <td>Star Wars: The Clone Wars</td>\n",
       "      <td>(2008–2020)</td>\n",
       "      <td>8.0</td>\n",
       "    </tr>\n",
       "  </tbody>\n",
       "</table>\n",
       "</div>"
      ],
      "text/plain": [
       "                    movie_series year_release rating\n",
       "41  Mighty Morphin Power Rangers  (1993–1996)    6.4\n",
       "48            The Big Door Prize     (2023– )    NaN\n",
       "31     Star Wars: The Clone Wars  (2008–2020)    8.0"
      ]
     },
     "execution_count": 53,
     "metadata": {},
     "output_type": "execute_result"
    }
   ],
   "source": [
    "final_df[1].sample(3)\n",
    "# print(titles[1])"
   ]
  },
  {
   "cell_type": "code",
   "execution_count": 54,
   "metadata": {},
   "outputs": [],
   "source": [
    "\n",
    "while item < len(final_df):\n",
    "    insert_data(final_df[item], db_name=\"movies\", table_name=str(titles[item]))\n",
    "    item += 1\n",
    "    print(item)\n"
   ]
  },
  {
   "cell_type": "code",
   "execution_count": 55,
   "metadata": {},
   "outputs": [],
   "source": [
    "\n",
    "def query_db(\n",
    "    db_name, table_name\n",
    "):\n",
    "    \n",
    "    if '-' in table_name:\n",
    "        new_tbname = table_name.split(\"-\")\n",
    "        table_name = \"_\".join(new_tbname)\n",
    "    \n",
    "    sql = 'SELECT * FROM {}.{}'.format(db_name, table_name)\n",
    "    cursor.execute(sql)\n",
    "    \n",
    "    result = cursor.fetchall()\n",
    "    for i in result:\n",
    "        print(i)\n",
    "\n"
   ]
  },
  {
   "cell_type": "code",
   "execution_count": 60,
   "metadata": {},
   "outputs": [],
   "source": [
    "def close_connection(con=None):\n",
    "    if not con:\n",
    "        return\n",
    "    con.close()"
   ]
  },
  {
   "cell_type": "code",
   "execution_count": 64,
   "metadata": {},
   "outputs": [
    {
     "name": "stdout",
     "output_type": "stream",
     "text": [
      "database created ...\n",
      "table created ...\n"
     ]
    }
   ],
   "source": [
    "try:\n",
    "    con2 = mysql.connect(\n",
    "        host=\"localhost\",\n",
    "        user=\"prince\",\n",
    "        password=\"devil@db007\",\n",
    "    )\n",
    "    \n",
    "    if con2.is_connected():\n",
    "        cursor = con2.cursor()\n",
    "        cursor.execute(\"CREATE DATABASE IF NOT EXISTS tmp_db0\")\n",
    "        print(\"database created ...\")\n",
    "        \n",
    "        cursor.execute(\"CREATE TABLE IF NOT EXISTS tmp_db0.curr_table (id INT, name VARCHAR(255), rating FLOAT, year_release VARCHAR(255))\")\n",
    "        print(\"table created ...\")\n",
    "except Error as error:\n",
    "    print(str(error))"
   ]
  },
  {
   "cell_type": "code",
   "execution_count": 66,
   "metadata": {},
   "outputs": [
    {
     "data": {
      "text/html": [
       "<div>\n",
       "<style scoped>\n",
       "    .dataframe tbody tr th:only-of-type {\n",
       "        vertical-align: middle;\n",
       "    }\n",
       "\n",
       "    .dataframe tbody tr th {\n",
       "        vertical-align: top;\n",
       "    }\n",
       "\n",
       "    .dataframe thead th {\n",
       "        text-align: right;\n",
       "    }\n",
       "</style>\n",
       "<table border=\"1\" class=\"dataframe\">\n",
       "  <thead>\n",
       "    <tr style=\"text-align: right;\">\n",
       "      <th></th>\n",
       "      <th>movie_series</th>\n",
       "      <th>year_release</th>\n",
       "      <th>rating</th>\n",
       "    </tr>\n",
       "  </thead>\n",
       "  <tbody>\n",
       "    <tr>\n",
       "      <th>0</th>\n",
       "      <td>Succession</td>\n",
       "      <td>(2018–2023)</td>\n",
       "      <td>8.796875</td>\n",
       "    </tr>\n",
       "    <tr>\n",
       "      <th>1</th>\n",
       "      <td>Ghosted</td>\n",
       "      <td>(I) (2023)</td>\n",
       "      <td>5.800781</td>\n",
       "    </tr>\n",
       "    <tr>\n",
       "      <th>2</th>\n",
       "      <td>Beef</td>\n",
       "      <td>(2023– )</td>\n",
       "      <td>8.203125</td>\n",
       "    </tr>\n",
       "    <tr>\n",
       "      <th>3</th>\n",
       "      <td>Ted Lasso</td>\n",
       "      <td>(2020– )</td>\n",
       "      <td>8.796875</td>\n",
       "    </tr>\n",
       "    <tr>\n",
       "      <th>4</th>\n",
       "      <td>The Super Mario Bros. Movie</td>\n",
       "      <td>(2023)</td>\n",
       "      <td>7.300781</td>\n",
       "    </tr>\n",
       "  </tbody>\n",
       "</table>\n",
       "</div>"
      ],
      "text/plain": [
       "                  movie_series year_release    rating\n",
       "0                   Succession  (2018–2023)  8.796875\n",
       "1                      Ghosted   (I) (2023)  5.800781\n",
       "2                         Beef     (2023– )  8.203125\n",
       "3                    Ted Lasso     (2020– )  8.796875\n",
       "4  The Super Mario Bros. Movie       (2023)  7.300781"
      ]
     },
     "execution_count": 66,
     "metadata": {},
     "output_type": "execute_result"
    }
   ],
   "source": [
    "\n",
    "final_df[0][:5]\n"
   ]
  }
 ],
 "metadata": {
  "kernelspec": {
   "display_name": "news0",
   "language": "python",
   "name": "python3"
  },
  "language_info": {
   "codemirror_mode": {
    "name": "ipython",
    "version": 3
   },
   "file_extension": ".py",
   "mimetype": "text/x-python",
   "name": "python",
   "nbconvert_exporter": "python",
   "pygments_lexer": "ipython3",
   "version": "3.11.2"
  },
  "orig_nbformat": 4
 },
 "nbformat": 4,
 "nbformat_minor": 2
}
